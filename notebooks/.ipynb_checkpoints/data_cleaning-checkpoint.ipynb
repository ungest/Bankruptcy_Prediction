{
 "cells": [
  {
   "cell_type": "markdown",
   "id": "1bb53a4e-bec1-432a-9525-8c260b32abfe",
   "metadata": {},
   "source": [
    "# Cleaning and Exploring the Bankruptcy dataset for Polish Companies"
   ]
  },
  {
   "cell_type": "code",
   "execution_count": 2,
   "id": "99ed5581-f525-49bc-ba2e-a9888aa1448a",
   "metadata": {},
   "outputs": [
    {
     "name": "stdout",
     "output_type": "stream",
     "text": [
      "Defaulting to user installation because normal site-packages is not writeable\n",
      "Requirement already satisfied: ucimlrepo in c:\\users\\admin pc\\appdata\\roaming\\python\\python311\\site-packages (0.0.6)\n",
      "Note: you may need to restart the kernel to use updated packages.\n"
     ]
    }
   ],
   "source": [
    "pip install ucimlrepo"
   ]
  },
  {
   "cell_type": "code",
   "execution_count": 3,
   "id": "e14e6aac-0547-4e4d-841f-4aeea5db243f",
   "metadata": {},
   "outputs": [],
   "source": [
    "import pandas as pd\n",
    "import json\n",
    "from ucimlrepo import fetch_ucirepo \n",
    "\n",
    "import matplotlib.pyplot as plt\n",
    "import seaborn as sns\n",
    "\n",
    "from sklearn.model_selection import train_test_split\n",
    "\n",
    "from imblearn.over_sampling import RandomOverSampler\n",
    "from imblearn.under_sampling import RandomUnderSampler\n",
    "\n",
    "from sklearn.pipeline import Pipeline, make_pipeline\n",
    "from sklearn.impute import SimpleImputer\n",
    "from sklearn.ensemble import GradientBoostingClassifier, RandomForestClassifier\n",
    "from sklearn.tree import DecisionTreeClassifier"
   ]
  },
  {
   "cell_type": "code",
   "execution_count": null,
   "id": "e1589db7-ef5e-4c8c-a6f6-8a7fcf2cdd87",
   "metadata": {},
   "outputs": [],
   "source": []
  },
  {
   "cell_type": "code",
   "execution_count": 4,
   "id": "d5bfad24-332e-45a8-9b05-25021455bc6c",
   "metadata": {},
   "outputs": [],
   "source": [
    "# fetch dataset \n",
    "polish_companies_bankruptcy = fetch_ucirepo(id=365) \n",
    "  \n",
    "# data (as pandas dataframes) \n",
    "# X = polish_companies_bankruptcy.data.features \n",
    "# y = polish_companies_bankruptcy.data.targets \n",
    "  "
   ]
  },
  {
   "cell_type": "code",
   "execution_count": 5,
   "id": "79edac43-9a28-4342-bb08-05f9404be40d",
   "metadata": {},
   "outputs": [
    {
     "data": {
      "text/plain": [
       "dict_keys(['data', 'metadata', 'variables'])"
      ]
     },
     "execution_count": 5,
     "metadata": {},
     "output_type": "execute_result"
    }
   ],
   "source": [
    "polish_companies_bankruptcy.keys()"
   ]
  },
  {
   "cell_type": "code",
   "execution_count": 6,
   "id": "67ea777e-d6e2-4403-b85f-cb49f2d1268b",
   "metadata": {},
   "outputs": [
    {
     "name": "stdout",
     "output_type": "stream",
     "text": [
      "The total number of companies in this dataset is: 43405\n"
     ]
    }
   ],
   "source": [
    "# Number of companies\n",
    "print('The total number of companies in this dataset is:', len(polish_companies_bankruptcy['data']['features']))"
   ]
  },
  {
   "cell_type": "code",
   "execution_count": 7,
   "id": "30eafb1a-d831-4747-8f07-5dd9772fa4ff",
   "metadata": {},
   "outputs": [
    {
     "name": "stdout",
     "output_type": "stream",
     "text": [
      "The total number of feautures in this dataset is: 66\n"
     ]
    }
   ],
   "source": [
    "# Number of features available\n",
    "print('The total number of feautures in this dataset is:', len(polish_companies_bankruptcy['data']['headers']))"
   ]
  },
  {
   "cell_type": "code",
   "execution_count": 8,
   "id": "092ada20-64e2-4dcb-8a8d-d1f4d20142e4",
   "metadata": {},
   "outputs": [
    {
     "data": {
      "text/plain": [
       "Index(['year', 'A1', 'A2', 'A3', 'A4', 'A5', 'A6', 'A7', 'A8', 'A9', 'A10',\n",
       "       'A11', 'A12', 'A13', 'A14', 'A15', 'A16', 'A17', 'A18', 'A19', 'A20',\n",
       "       'A21', 'A22', 'A23', 'A24', 'A25', 'A26', 'A27', 'A28', 'A29', 'A30',\n",
       "       'A31', 'A32', 'A33', 'A34', 'A35', 'A36', 'A37', 'A38', 'A39', 'A40',\n",
       "       'A41', 'A42', 'A43', 'A44', 'A45', 'A46', 'A47', 'A48', 'A49', 'A50',\n",
       "       'A51', 'A52', 'A53', 'A54', 'A55', 'A56', 'A57', 'A58', 'A59', 'A60',\n",
       "       'A61', 'A62', 'A63', 'A64', 'class'],\n",
       "      dtype='object')"
      ]
     },
     "execution_count": 8,
     "metadata": {},
     "output_type": "execute_result"
    }
   ],
   "source": [
    "polish_companies_bankruptcy['data']['headers']"
   ]
  },
  {
   "cell_type": "code",
   "execution_count": 9,
   "id": "ca2cca3b-c508-4e17-a9da-bf96637fbbbf",
   "metadata": {},
   "outputs": [
    {
     "data": {
      "text/plain": [
       "A37      18984\n",
       "A21       5854\n",
       "A27       2764\n",
       "A60       2152\n",
       "A45       2147\n",
       "         ...  \n",
       "A57          7\n",
       "A59          7\n",
       "A55          1\n",
       "year         0\n",
       "class        0\n",
       "Length: 66, dtype: int64"
      ]
     },
     "execution_count": 9,
     "metadata": {},
     "output_type": "execute_result"
    }
   ],
   "source": [
    "# Saving the features and target \n",
    "X = polish_companies_bankruptcy['data']['features']\n",
    "y = polish_companies_bankruptcy['data']['targets']\n",
    "\n",
    "\n",
    "\n",
    "# Join the features and target together\n",
    "df = X.join(y)\n",
    "df.head()\n",
    "df.isnull().sum().sort_values(ascending=False)"
   ]
  },
  {
   "cell_type": "markdown",
   "id": "8665a104-6d46-4381-a399-2359c233e82a",
   "metadata": {},
   "source": [
    "### Exploratory Data Analysis"
   ]
  },
  {
   "cell_type": "code",
   "execution_count": 10,
   "id": "eecce43a-35ac-4f3e-aeea-038d476ecede",
   "metadata": {},
   "outputs": [
    {
     "data": {
      "text/plain": [
       "(43405, 66)"
      ]
     },
     "execution_count": 10,
     "metadata": {},
     "output_type": "execute_result"
    }
   ],
   "source": [
    "df.shape"
   ]
  },
  {
   "cell_type": "code",
   "execution_count": 11,
   "id": "b5bdc274-5081-402d-94f2-74641fb94f94",
   "metadata": {},
   "outputs": [
    {
     "data": {
      "text/plain": [
       "year\n",
       "3    10503\n",
       "2    10173\n",
       "4     9792\n",
       "1     7027\n",
       "5     5910\n",
       "Name: count, dtype: int64"
      ]
     },
     "execution_count": 11,
     "metadata": {},
     "output_type": "execute_result"
    }
   ],
   "source": [
    "df.year.value_counts()"
   ]
  },
  {
   "cell_type": "code",
   "execution_count": 12,
   "id": "24738c65-7537-4f6b-a22c-65cfa4ef67c0",
   "metadata": {},
   "outputs": [
    {
     "data": {
      "text/html": [
       "<div>\n",
       "<style scoped>\n",
       "    .dataframe tbody tr th:only-of-type {\n",
       "        vertical-align: middle;\n",
       "    }\n",
       "\n",
       "    .dataframe tbody tr th {\n",
       "        vertical-align: top;\n",
       "    }\n",
       "\n",
       "    .dataframe thead th {\n",
       "        text-align: right;\n",
       "    }\n",
       "</style>\n",
       "<table border=\"1\" class=\"dataframe\">\n",
       "  <thead>\n",
       "    <tr style=\"text-align: right;\">\n",
       "      <th></th>\n",
       "      <th>count</th>\n",
       "      <th>mean</th>\n",
       "      <th>std</th>\n",
       "      <th>min</th>\n",
       "      <th>25%</th>\n",
       "      <th>50%</th>\n",
       "      <th>75%</th>\n",
       "      <th>max</th>\n",
       "    </tr>\n",
       "  </thead>\n",
       "  <tbody>\n",
       "    <tr>\n",
       "      <th>year</th>\n",
       "      <td>43405.0</td>\n",
       "      <td>2.939753</td>\n",
       "      <td>1.283975</td>\n",
       "      <td>1.000000e+00</td>\n",
       "      <td>2.000000</td>\n",
       "      <td>3.00000</td>\n",
       "      <td>4.00000</td>\n",
       "      <td>5.000000e+00</td>\n",
       "    </tr>\n",
       "    <tr>\n",
       "      <th>A1</th>\n",
       "      <td>43397.0</td>\n",
       "      <td>0.035160</td>\n",
       "      <td>2.994109</td>\n",
       "      <td>-4.638900e+02</td>\n",
       "      <td>0.003429</td>\n",
       "      <td>0.04966</td>\n",
       "      <td>0.12958</td>\n",
       "      <td>9.428000e+01</td>\n",
       "    </tr>\n",
       "    <tr>\n",
       "      <th>A2</th>\n",
       "      <td>43397.0</td>\n",
       "      <td>0.590212</td>\n",
       "      <td>5.842748</td>\n",
       "      <td>-4.308700e+02</td>\n",
       "      <td>0.268980</td>\n",
       "      <td>0.47190</td>\n",
       "      <td>0.68832</td>\n",
       "      <td>4.809600e+02</td>\n",
       "    </tr>\n",
       "    <tr>\n",
       "      <th>A3</th>\n",
       "      <td>43397.0</td>\n",
       "      <td>0.114431</td>\n",
       "      <td>5.439429</td>\n",
       "      <td>-4.799600e+02</td>\n",
       "      <td>0.021521</td>\n",
       "      <td>0.19661</td>\n",
       "      <td>0.40339</td>\n",
       "      <td>2.833600e+01</td>\n",
       "    </tr>\n",
       "    <tr>\n",
       "      <th>A4</th>\n",
       "      <td>43271.0</td>\n",
       "      <td>6.314702</td>\n",
       "      <td>295.434425</td>\n",
       "      <td>-4.031100e-01</td>\n",
       "      <td>1.049500</td>\n",
       "      <td>1.56980</td>\n",
       "      <td>2.78745</td>\n",
       "      <td>5.343300e+04</td>\n",
       "    </tr>\n",
       "    <tr>\n",
       "      <th>...</th>\n",
       "      <td>...</td>\n",
       "      <td>...</td>\n",
       "      <td>...</td>\n",
       "      <td>...</td>\n",
       "      <td>...</td>\n",
       "      <td>...</td>\n",
       "      <td>...</td>\n",
       "      <td>...</td>\n",
       "    </tr>\n",
       "    <tr>\n",
       "      <th>A61</th>\n",
       "      <td>43303.0</td>\n",
       "      <td>17.033202</td>\n",
       "      <td>553.049406</td>\n",
       "      <td>-1.265600e+01</td>\n",
       "      <td>4.510150</td>\n",
       "      <td>6.63630</td>\n",
       "      <td>10.39450</td>\n",
       "      <td>1.080000e+05</td>\n",
       "    </tr>\n",
       "    <tr>\n",
       "      <th>A62</th>\n",
       "      <td>43278.0</td>\n",
       "      <td>1502.521234</td>\n",
       "      <td>139302.334863</td>\n",
       "      <td>-2.340000e+06</td>\n",
       "      <td>42.144000</td>\n",
       "      <td>71.32600</td>\n",
       "      <td>117.22000</td>\n",
       "      <td>2.501600e+07</td>\n",
       "    </tr>\n",
       "    <tr>\n",
       "      <th>A63</th>\n",
       "      <td>43271.0</td>\n",
       "      <td>9.343074</td>\n",
       "      <td>124.177354</td>\n",
       "      <td>-1.543200e+00</td>\n",
       "      <td>3.097650</td>\n",
       "      <td>5.08760</td>\n",
       "      <td>8.59885</td>\n",
       "      <td>2.345400e+04</td>\n",
       "    </tr>\n",
       "    <tr>\n",
       "      <th>A64</th>\n",
       "      <td>42593.0</td>\n",
       "      <td>72.796105</td>\n",
       "      <td>2369.744596</td>\n",
       "      <td>-1.067700e+04</td>\n",
       "      <td>2.176800</td>\n",
       "      <td>4.28250</td>\n",
       "      <td>9.77620</td>\n",
       "      <td>2.947700e+05</td>\n",
       "    </tr>\n",
       "    <tr>\n",
       "      <th>class</th>\n",
       "      <td>43405.0</td>\n",
       "      <td>0.048174</td>\n",
       "      <td>0.214137</td>\n",
       "      <td>0.000000e+00</td>\n",
       "      <td>0.000000</td>\n",
       "      <td>0.00000</td>\n",
       "      <td>0.00000</td>\n",
       "      <td>1.000000e+00</td>\n",
       "    </tr>\n",
       "  </tbody>\n",
       "</table>\n",
       "<p>66 rows × 8 columns</p>\n",
       "</div>"
      ],
      "text/plain": [
       "         count         mean            std           min        25%       50%  \\\n",
       "year   43405.0     2.939753       1.283975  1.000000e+00   2.000000   3.00000   \n",
       "A1     43397.0     0.035160       2.994109 -4.638900e+02   0.003429   0.04966   \n",
       "A2     43397.0     0.590212       5.842748 -4.308700e+02   0.268980   0.47190   \n",
       "A3     43397.0     0.114431       5.439429 -4.799600e+02   0.021521   0.19661   \n",
       "A4     43271.0     6.314702     295.434425 -4.031100e-01   1.049500   1.56980   \n",
       "...        ...          ...            ...           ...        ...       ...   \n",
       "A61    43303.0    17.033202     553.049406 -1.265600e+01   4.510150   6.63630   \n",
       "A62    43278.0  1502.521234  139302.334863 -2.340000e+06  42.144000  71.32600   \n",
       "A63    43271.0     9.343074     124.177354 -1.543200e+00   3.097650   5.08760   \n",
       "A64    42593.0    72.796105    2369.744596 -1.067700e+04   2.176800   4.28250   \n",
       "class  43405.0     0.048174       0.214137  0.000000e+00   0.000000   0.00000   \n",
       "\n",
       "             75%           max  \n",
       "year     4.00000  5.000000e+00  \n",
       "A1       0.12958  9.428000e+01  \n",
       "A2       0.68832  4.809600e+02  \n",
       "A3       0.40339  2.833600e+01  \n",
       "A4       2.78745  5.343300e+04  \n",
       "...          ...           ...  \n",
       "A61     10.39450  1.080000e+05  \n",
       "A62    117.22000  2.501600e+07  \n",
       "A63      8.59885  2.345400e+04  \n",
       "A64      9.77620  2.947700e+05  \n",
       "class    0.00000  1.000000e+00  \n",
       "\n",
       "[66 rows x 8 columns]"
      ]
     },
     "execution_count": 12,
     "metadata": {},
     "output_type": "execute_result"
    }
   ],
   "source": [
    "df.describe().T"
   ]
  },
  {
   "cell_type": "code",
   "execution_count": 13,
   "id": "abd61921-56aa-41fe-a597-0bcab960780c",
   "metadata": {},
   "outputs": [
    {
     "data": {
      "text/html": [
       "<div>\n",
       "<style scoped>\n",
       "    .dataframe tbody tr th:only-of-type {\n",
       "        vertical-align: middle;\n",
       "    }\n",
       "\n",
       "    .dataframe tbody tr th {\n",
       "        vertical-align: top;\n",
       "    }\n",
       "\n",
       "    .dataframe thead th {\n",
       "        text-align: right;\n",
       "    }\n",
       "</style>\n",
       "<table border=\"1\" class=\"dataframe\">\n",
       "  <thead>\n",
       "    <tr style=\"text-align: right;\">\n",
       "      <th></th>\n",
       "      <th>year</th>\n",
       "      <th>A1</th>\n",
       "      <th>A2</th>\n",
       "      <th>A3</th>\n",
       "      <th>A4</th>\n",
       "      <th>A5</th>\n",
       "      <th>A6</th>\n",
       "      <th>A7</th>\n",
       "      <th>A8</th>\n",
       "      <th>A9</th>\n",
       "      <th>...</th>\n",
       "      <th>A56</th>\n",
       "      <th>A57</th>\n",
       "      <th>A58</th>\n",
       "      <th>A59</th>\n",
       "      <th>A60</th>\n",
       "      <th>A61</th>\n",
       "      <th>A62</th>\n",
       "      <th>A63</th>\n",
       "      <th>A64</th>\n",
       "      <th>class</th>\n",
       "    </tr>\n",
       "  </thead>\n",
       "  <tbody>\n",
       "    <tr>\n",
       "      <th>0</th>\n",
       "      <td>1</td>\n",
       "      <td>0.200550</td>\n",
       "      <td>0.37951</td>\n",
       "      <td>0.39641</td>\n",
       "      <td>2.0472</td>\n",
       "      <td>32.3510</td>\n",
       "      <td>0.38825</td>\n",
       "      <td>0.249760</td>\n",
       "      <td>1.33050</td>\n",
       "      <td>1.1389</td>\n",
       "      <td>...</td>\n",
       "      <td>0.121960</td>\n",
       "      <td>0.39718</td>\n",
       "      <td>0.87804</td>\n",
       "      <td>0.001924</td>\n",
       "      <td>8.4160</td>\n",
       "      <td>5.1372</td>\n",
       "      <td>82.658</td>\n",
       "      <td>4.4158</td>\n",
       "      <td>7.4277</td>\n",
       "      <td>0</td>\n",
       "    </tr>\n",
       "    <tr>\n",
       "      <th>1</th>\n",
       "      <td>1</td>\n",
       "      <td>0.209120</td>\n",
       "      <td>0.49988</td>\n",
       "      <td>0.47225</td>\n",
       "      <td>1.9447</td>\n",
       "      <td>14.7860</td>\n",
       "      <td>0.00000</td>\n",
       "      <td>0.258340</td>\n",
       "      <td>0.99601</td>\n",
       "      <td>1.6996</td>\n",
       "      <td>...</td>\n",
       "      <td>0.121300</td>\n",
       "      <td>0.42002</td>\n",
       "      <td>0.85300</td>\n",
       "      <td>0.000000</td>\n",
       "      <td>4.1486</td>\n",
       "      <td>3.2732</td>\n",
       "      <td>107.350</td>\n",
       "      <td>3.4000</td>\n",
       "      <td>60.9870</td>\n",
       "      <td>0</td>\n",
       "    </tr>\n",
       "    <tr>\n",
       "      <th>2</th>\n",
       "      <td>1</td>\n",
       "      <td>0.248660</td>\n",
       "      <td>0.69592</td>\n",
       "      <td>0.26713</td>\n",
       "      <td>1.5548</td>\n",
       "      <td>-1.1523</td>\n",
       "      <td>0.00000</td>\n",
       "      <td>0.309060</td>\n",
       "      <td>0.43695</td>\n",
       "      <td>1.3090</td>\n",
       "      <td>...</td>\n",
       "      <td>0.241140</td>\n",
       "      <td>0.81774</td>\n",
       "      <td>0.76599</td>\n",
       "      <td>0.694840</td>\n",
       "      <td>4.9909</td>\n",
       "      <td>3.9510</td>\n",
       "      <td>134.270</td>\n",
       "      <td>2.7185</td>\n",
       "      <td>5.2078</td>\n",
       "      <td>0</td>\n",
       "    </tr>\n",
       "    <tr>\n",
       "      <th>3</th>\n",
       "      <td>1</td>\n",
       "      <td>0.081483</td>\n",
       "      <td>0.30734</td>\n",
       "      <td>0.45879</td>\n",
       "      <td>2.4928</td>\n",
       "      <td>51.9520</td>\n",
       "      <td>0.14988</td>\n",
       "      <td>0.092704</td>\n",
       "      <td>1.86610</td>\n",
       "      <td>1.0571</td>\n",
       "      <td>...</td>\n",
       "      <td>0.054015</td>\n",
       "      <td>0.14207</td>\n",
       "      <td>0.94598</td>\n",
       "      <td>0.000000</td>\n",
       "      <td>4.5746</td>\n",
       "      <td>3.6147</td>\n",
       "      <td>86.435</td>\n",
       "      <td>4.2228</td>\n",
       "      <td>5.5497</td>\n",
       "      <td>0</td>\n",
       "    </tr>\n",
       "    <tr>\n",
       "      <th>4</th>\n",
       "      <td>1</td>\n",
       "      <td>0.187320</td>\n",
       "      <td>0.61323</td>\n",
       "      <td>0.22960</td>\n",
       "      <td>1.4063</td>\n",
       "      <td>-7.3128</td>\n",
       "      <td>0.18732</td>\n",
       "      <td>0.187320</td>\n",
       "      <td>0.63070</td>\n",
       "      <td>1.1559</td>\n",
       "      <td>...</td>\n",
       "      <td>0.134850</td>\n",
       "      <td>0.48431</td>\n",
       "      <td>0.86515</td>\n",
       "      <td>0.124440</td>\n",
       "      <td>6.3985</td>\n",
       "      <td>4.3158</td>\n",
       "      <td>127.210</td>\n",
       "      <td>2.8692</td>\n",
       "      <td>7.8980</td>\n",
       "      <td>0</td>\n",
       "    </tr>\n",
       "  </tbody>\n",
       "</table>\n",
       "<p>5 rows × 66 columns</p>\n",
       "</div>"
      ],
      "text/plain": [
       "   year        A1       A2       A3      A4       A5       A6        A7  \\\n",
       "0     1  0.200550  0.37951  0.39641  2.0472  32.3510  0.38825  0.249760   \n",
       "1     1  0.209120  0.49988  0.47225  1.9447  14.7860  0.00000  0.258340   \n",
       "2     1  0.248660  0.69592  0.26713  1.5548  -1.1523  0.00000  0.309060   \n",
       "3     1  0.081483  0.30734  0.45879  2.4928  51.9520  0.14988  0.092704   \n",
       "4     1  0.187320  0.61323  0.22960  1.4063  -7.3128  0.18732  0.187320   \n",
       "\n",
       "        A8      A9  ...       A56      A57      A58       A59     A60     A61  \\\n",
       "0  1.33050  1.1389  ...  0.121960  0.39718  0.87804  0.001924  8.4160  5.1372   \n",
       "1  0.99601  1.6996  ...  0.121300  0.42002  0.85300  0.000000  4.1486  3.2732   \n",
       "2  0.43695  1.3090  ...  0.241140  0.81774  0.76599  0.694840  4.9909  3.9510   \n",
       "3  1.86610  1.0571  ...  0.054015  0.14207  0.94598  0.000000  4.5746  3.6147   \n",
       "4  0.63070  1.1559  ...  0.134850  0.48431  0.86515  0.124440  6.3985  4.3158   \n",
       "\n",
       "       A62     A63      A64  class  \n",
       "0   82.658  4.4158   7.4277      0  \n",
       "1  107.350  3.4000  60.9870      0  \n",
       "2  134.270  2.7185   5.2078      0  \n",
       "3   86.435  4.2228   5.5497      0  \n",
       "4  127.210  2.8692   7.8980      0  \n",
       "\n",
       "[5 rows x 66 columns]"
      ]
     },
     "execution_count": 13,
     "metadata": {},
     "output_type": "execute_result"
    }
   ],
   "source": [
    "df.head()"
   ]
  },
  {
   "cell_type": "code",
   "execution_count": null,
   "id": "8de95694-6bd5-4a37-8e68-9385eec7f91a",
   "metadata": {},
   "outputs": [],
   "source": []
  },
  {
   "cell_type": "code",
   "execution_count": 14,
   "id": "589ff12c-b483-463f-b913-d0e5f053fa21",
   "metadata": {},
   "outputs": [
    {
     "data": {
      "image/png": "[encoded data removed]",
      "text/plain": [
       "<Figure size 640x480 with 1 Axes>"
      ]
     },
     "metadata": {},
     "output_type": "display_data"
    }
   ],
   "source": [
    "sns.boxplot(df, y='A4', x='class')\n",
    "plt.title('Boxplot showing the distribution of current assets / short-term liabilities for Bankrupt and Non-bankrupt companies');"
   ]
  },
  {
   "cell_type": "markdown",
   "id": "604ce47a-f6df-4ebf-a1a6-39f546c2e399",
   "metadata": {},
   "source": [
    "The Box and Whisker plot above shows the presence of Outliers in the dataset. This means that the strategy for imputing null values should be 'median' as these outliers will affect the mean of the dataset. The median is not affected by the presence of these outliers which in turn cause skewness."
   ]
  },
  {
   "cell_type": "code",
   "execution_count": 15,
   "id": "b6dcbeb7-08df-43e5-8202-ca8a980b8e4b",
   "metadata": {},
   "outputs": [
    {
     "data": {
      "image/png": "[encoded data removed]",
      "text/plain": [
       "<Figure size 640x480 with 1 Axes>"
      ]
     },
     "metadata": {},
     "output_type": "display_data"
    }
   ],
   "source": [
    "# Plotting the Box and Whisker plot for datapoints between the 10th and 90th percentile\n",
    "q1, q3 = df['A4'].quantile([0.1, 0.9])\n",
    "masked_df = df['A4'].between(q1, q3)\n",
    "sns.boxplot(df[masked_df], y='A4', x='class')\n",
    "plt.title('Boxplot showing the distribution of current assets / short-term liabilities for Bankrupt and Non-bankrupt companies');"
   ]
  },
  {
   "cell_type": "code",
   "execution_count": 16,
   "id": "2481baf8-005e-4aa5-8d95-e6ad1437ac89",
   "metadata": {},
   "outputs": [
    {
     "data": {
      "image/png": "[encoded data removed]",
      "text/plain": [
       "<Figure size 640x480 with 1 Axes>"
      ]
     },
     "metadata": {},
     "output_type": "display_data"
    }
   ],
   "source": [
    "df['class'].value_counts(normalize=True).plot(kind='bar');"
   ]
  },
  {
   "cell_type": "markdown",
   "id": "e2f050db-cd7b-4253-9185-ccf2f69406ff",
   "metadata": {},
   "source": [
    "The above chart shows that there is class imbalance. In the bid to find out which resampling technique will work the most, I will create model instances for both oversampled and undersampled datasets and find out the better performing models."
   ]
  },
  {
   "cell_type": "markdown",
   "id": "7ddec122-f2b4-44f5-9714-df0b5e884d24",
   "metadata": {},
   "source": [
    "### Feature Engineering and Selection"
   ]
  },
  {
   "cell_type": "code",
   "execution_count": 17,
   "id": "71aee281-3229-4f6e-93ff-c82af75a4988",
   "metadata": {},
   "outputs": [],
   "source": [
    "# Split into features and target\n",
    "target = 'class'\n",
    "X = df.drop(target, axis=1)\n",
    "y = df[target]\n"
   ]
  },
  {
   "cell_type": "code",
   "execution_count": 18,
   "id": "58a944ec-e6a3-49a6-9b50-55dd2e4759dd",
   "metadata": {},
   "outputs": [
    {
     "name": "stdout",
     "output_type": "stream",
     "text": [
      "Shape of X_train: (34724, 65)\n",
      "Shape of y_train: (34724,)\n",
      "Shape of X_test: (8681, 65)\n",
      "Shape of y_test: (8681,)\n"
     ]
    }
   ],
   "source": [
    "# Spliting into training and testing sets\n",
    "X_train, X_test, y_train, y_test = train_test_split(X, y, random_state=42, test_size=0.2)\n",
    "print('Shape of X_train:', X_train.shape)\n",
    "print('Shape of y_train:', y_train.shape)\n",
    "print('Shape of X_test:', X_test.shape)\n",
    "print('Shape of y_test:', y_test.shape)"
   ]
  },
  {
   "cell_type": "code",
   "execution_count": 19,
   "id": "58f3705e-a9a2-4520-bd55-3f50fa765957",
   "metadata": {},
   "outputs": [
    {
     "data": {
      "text/plain": [
       "class\n",
       "0    33074\n",
       "1     1650\n",
       "Name: count, dtype: int64"
      ]
     },
     "execution_count": 19,
     "metadata": {},
     "output_type": "execute_result"
    }
   ],
   "source": [
    "# The value distribution\n",
    "y_train.value_counts()"
   ]
  },
  {
   "cell_type": "markdown",
   "id": "18784f71-304b-4865-923e-922c66f09678",
   "metadata": {},
   "source": [
    "##### Baseline accuracy score"
   ]
  },
  {
   "cell_type": "code",
   "execution_count": 20,
   "id": "ea00f1be-000a-4f55-ab00-1a2d8419fdcb",
   "metadata": {},
   "outputs": [
    {
     "data": {
      "text/plain": [
       "0.9524824328994356"
      ]
     },
     "execution_count": 20,
     "metadata": {},
     "output_type": "execute_result"
    }
   ],
   "source": [
    "# Set a baseline accuracy score\n",
    "bl_score = y_train.value_counts(normalize=True)[0]\n",
    "bl_score"
   ]
  },
  {
   "cell_type": "code",
   "execution_count": 21,
   "id": "c6ec779a-9ec3-4f05-abbf-148d84d0832f",
   "metadata": {},
   "outputs": [
    {
     "name": "stdout",
     "output_type": "stream",
     "text": [
      "Shape of over sampled X_train: (66148, 65)\n",
      "Shape of over sampled y_train: (66148,)\n"
     ]
    }
   ],
   "source": [
    "# Fit the training set into an oversampler\n",
    "over_sampler = RandomOverSampler(random_state=42)\n",
    "\n",
    "X_over_sampled, y_over_sampled = over_sampler.fit_resample(X_train, y_train)\n",
    "print('Shape of over sampled X_train:', X_over_sampled.shape)\n",
    "print('Shape of over sampled y_train:', y_over_sampled.shape)"
   ]
  },
  {
   "cell_type": "markdown",
   "id": "cce6de3a-17ab-4719-adae-214ee0231601",
   "metadata": {},
   "source": [
    "Over sampling simply means, increasing the data points of the minority class to have the same number of datapoints as the majority class"
   ]
  },
  {
   "cell_type": "code",
   "execution_count": 22,
   "id": "44a0ca0d-3358-4947-8025-3852cb5ac121",
   "metadata": {},
   "outputs": [
    {
     "name": "stdout",
     "output_type": "stream",
     "text": [
      "Shape of under sampled X_train: (3300, 65)\n",
      "Shape of under sampled y_train: (3300,)\n"
     ]
    }
   ],
   "source": [
    "# Fit the training set to an undersampler\n",
    "under_sampler = RandomUnderSampler(random_state=42)\n",
    "\n",
    "X_under_sampled, y_under_sampled = under_sampler.fit_resample(X_train, y_train)\n",
    "print('Shape of under sampled X_train:', X_under_sampled.shape)\n",
    "print('Shape of under sampled y_train:', y_under_sampled.shape)"
   ]
  },
  {
   "cell_type": "code",
   "execution_count": 23,
   "id": "75bcc014-538d-44c0-ac99-8dfc45ede3de",
   "metadata": {},
   "outputs": [
    {
     "data": {
      "text/html": [
       "<style>#sk-container-id-1 {color: black;background-color: white;}#sk-container-id-1 pre{padding: 0;}#sk-container-id-1 div.sk-toggleable {background-color: white;}#sk-container-id-1 label.sk-toggleable__label {cursor: pointer;display: block;width: 100%;margin-bottom: 0;padding: 0.3em;box-sizing: border-box;text-align: center;}#sk-container-id-1 label.sk-toggleable__label-arrow:before {content: \"▸\";float: left;margin-right: 0.25em;color: #696969;}#sk-container-id-1 label.sk-toggleable__label-arrow:hover:before {color: black;}#sk-container-id-1 div.sk-estimator:hover label.sk-toggleable__label-arrow:before {color: black;}#sk-container-id-1 div.sk-toggleable__content {max-height: 0;max-width: 0;overflow: hidden;text-align: left;background-color: #f0f8ff;}#sk-container-id-1 div.sk-toggleable__content pre {margin: 0.2em;color: black;border-radius: 0.25em;background-color: #f0f8ff;}#sk-container-id-1 input.sk-toggleable__control:checked~div.sk-toggleable__content {max-height: 200px;max-width: 100%;overflow: auto;}#sk-container-id-1 input.sk-toggleable__control:checked~label.sk-toggleable__label-arrow:before {content: \"▾\";}#sk-container-id-1 div.sk-estimator input.sk-toggleable__control:checked~label.sk-toggleable__label {background-color: #d4ebff;}#sk-container-id-1 div.sk-label input.sk-toggleable__control:checked~label.sk-toggleable__label {background-color: #d4ebff;}#sk-container-id-1 input.sk-hidden--visually {border: 0;clip: rect(1px 1px 1px 1px);clip: rect(1px, 1px, 1px, 1px);height: 1px;margin: -1px;overflow: hidden;padding: 0;position: absolute;width: 1px;}#sk-container-id-1 div.sk-estimator {font-family: monospace;background-color: #f0f8ff;border: 1px dotted black;border-radius: 0.25em;box-sizing: border-box;margin-bottom: 0.5em;}#sk-container-id-1 div.sk-estimator:hover {background-color: #d4ebff;}#sk-container-id-1 div.sk-parallel-item::after {content: \"\";width: 100%;border-bottom: 1px solid gray;flex-grow: 1;}#sk-container-id-1 div.sk-label:hover label.sk-toggleable__label {background-color: #d4ebff;}#sk-container-id-1 div.sk-serial::before {content: \"\";position: absolute;border-left: 1px solid gray;box-sizing: border-box;top: 0;bottom: 0;left: 50%;z-index: 0;}#sk-container-id-1 div.sk-serial {display: flex;flex-direction: column;align-items: center;background-color: white;padding-right: 0.2em;padding-left: 0.2em;position: relative;}#sk-container-id-1 div.sk-item {position: relative;z-index: 1;}#sk-container-id-1 div.sk-parallel {display: flex;align-items: stretch;justify-content: center;background-color: white;position: relative;}#sk-container-id-1 div.sk-item::before, #sk-container-id-1 div.sk-parallel-item::before {content: \"\";position: absolute;border-left: 1px solid gray;box-sizing: border-box;top: 0;bottom: 0;left: 50%;z-index: -1;}#sk-container-id-1 div.sk-parallel-item {display: flex;flex-direction: column;z-index: 1;position: relative;background-color: white;}#sk-container-id-1 div.sk-parallel-item:first-child::after {align-self: flex-end;width: 50%;}#sk-container-id-1 div.sk-parallel-item:last-child::after {align-self: flex-start;width: 50%;}#sk-container-id-1 div.sk-parallel-item:only-child::after {width: 0;}#sk-container-id-1 div.sk-dashed-wrapped {border: 1px dashed gray;margin: 0 0.4em 0.5em 0.4em;box-sizing: border-box;padding-bottom: 0.4em;background-color: white;}#sk-container-id-1 div.sk-label label {font-family: monospace;font-weight: bold;display: inline-block;line-height: 1.2em;}#sk-container-id-1 div.sk-label-container {text-align: center;}#sk-container-id-1 div.sk-container {/* jupyter's `normalize.less` sets `[hidden] { display: none; }` but bootstrap.min.css set `[hidden] { display: none !important; }` so we also need the `!important` here to be able to override the default hidden behavior on the sphinx rendered scikit-learn.org. See: https://github.com/scikit-learn/scikit-learn/issues/21755 */display: inline-block !important;position: relative;}#sk-container-id-1 div.sk-text-repr-fallback {display: none;}</style><div id=\"sk-container-id-1\" class=\"sk-top-container\"><div class=\"sk-text-repr-fallback\"><pre>Pipeline(steps=[(&#x27;imputer&#x27;, SimpleImputer(strategy=&#x27;median&#x27;)),\n",
       "                (&#x27;decisiontree&#x27;, DecisionTreeClassifier(random_state=42))])</pre><b>In a Jupyter environment, please rerun this cell to show the HTML representation or trust the notebook. <br />On GitHub, the HTML representation is unable to render, please try loading this page with nbviewer.org.</b></div><div class=\"sk-container\" hidden><div class=\"sk-item sk-dashed-wrapped\"><div class=\"sk-label-container\"><div class=\"sk-label sk-toggleable\"><input class=\"sk-toggleable__control sk-hidden--visually\" id=\"sk-estimator-id-1\" type=\"checkbox\" ><label for=\"sk-estimator-id-1\" class=\"sk-toggleable__label sk-toggleable__label-arrow\">Pipeline</label><div class=\"sk-toggleable__content\"><pre>Pipeline(steps=[(&#x27;imputer&#x27;, SimpleImputer(strategy=&#x27;median&#x27;)),\n",
       "                (&#x27;decisiontree&#x27;, DecisionTreeClassifier(random_state=42))])</pre></div></div></div><div class=\"sk-serial\"><div class=\"sk-item\"><div class=\"sk-estimator sk-toggleable\"><input class=\"sk-toggleable__control sk-hidden--visually\" id=\"sk-estimator-id-2\" type=\"checkbox\" ><label for=\"sk-estimator-id-2\" class=\"sk-toggleable__label sk-toggleable__label-arrow\">SimpleImputer</label><div class=\"sk-toggleable__content\"><pre>SimpleImputer(strategy=&#x27;median&#x27;)</pre></div></div></div><div class=\"sk-item\"><div class=\"sk-estimator sk-toggleable\"><input class=\"sk-toggleable__control sk-hidden--visually\" id=\"sk-estimator-id-3\" type=\"checkbox\" ><label for=\"sk-estimator-id-3\" class=\"sk-toggleable__label sk-toggleable__label-arrow\">DecisionTreeClassifier</label><div class=\"sk-toggleable__content\"><pre>DecisionTreeClassifier(random_state=42)</pre></div></div></div></div></div></div></div>"
      ],
      "text/plain": [
       "Pipeline(steps=[('imputer', SimpleImputer(strategy='median')),\n",
       "                ('decisiontree', DecisionTreeClassifier(random_state=42))])"
      ]
     },
     "execution_count": 23,
     "metadata": {},
     "output_type": "execute_result"
    }
   ],
   "source": [
    "# Creating instances of a DecisionTreeClassifier model and fitting each of the over sampled, under sampled and original dataset.\n",
    "\n",
    "model_norm = Pipeline(steps=[('imputer', SimpleImputer(strategy='median')), ('decisiontree', DecisionTreeClassifier(random_state=42))])\n",
    "model_norm.fit(X_train, y_train)\n",
    "\n",
    "model_os = Pipeline(steps=[('imputer', SimpleImputer(strategy='median')), ('decisiontree', DecisionTreeClassifier(random_state=42))])\n",
    "model_os.fit(X_over_sampled, y_over_sampled)\n",
    "\n",
    "model_us = Pipeline(steps=[('imputer', SimpleImputer(strategy='median')), ('decisiontree', DecisionTreeClassifier(random_state=42))])\n",
    "model_us.fit(X_under_sampled, y_under_sampled)"
   ]
  },
  {
   "cell_type": "code",
   "execution_count": 24,
   "id": "5f6edcc0-0af7-427e-8b0e-8b52d4059fb7",
   "metadata": {},
   "outputs": [
    {
     "name": "stdout",
     "output_type": "stream",
     "text": [
      "Accuracy score on training set: 1.0,  testing set: 0.9505817302154129\n",
      "Accuracy score on training set: 1.0,  testing set: 0.9523096417463426\n",
      "Accuracy score on training set: 0.8074242598778942,  testing set: 0.7842414468379219\n"
     ]
    }
   ],
   "source": [
    "models = [model_norm, model_os, model_us]\n",
    "\n",
    "for model in models:\n",
    "    acc_train = model.score(X_train, y_train)\n",
    "    acc = model.score(X_test, y_test)\n",
    "    print(f'Accuracy score on training set: {acc_train},  testing set: {acc}')"
   ]
  },
  {
   "cell_type": "markdown",
   "id": "b8d87a38-30ae-4378-bc3b-e4cd98551ae1",
   "metadata": {},
   "source": [
    "**From the accuracy scores shown above, I'll continue using the Over_sampled dataset in building an Emsemble Classification model** "
   ]
  },
  {
   "cell_type": "code",
   "execution_count": null,
   "id": "3aba738b-36eb-49fd-9310-4b89bc8e9016",
   "metadata": {},
   "outputs": [],
   "source": []
  },
  {
   "cell_type": "code",
   "execution_count": null,
   "id": "fe05e493-52de-4995-b59a-7dcbe5e4107a",
   "metadata": {},
   "outputs": [],
   "source": []
  }
 ],
 "metadata": {
  "kernelspec": {
   "display_name": "Python 3 (ipykernel)",
   "language": "python",
   "name": "python3"
  },
  "language_info": {
   "codemirror_mode": {
    "name": "ipython",
    "version": 3
   },
   "file_extension": ".py",
   "mimetype": "text/x-python",
   "name": "python",
   "nbconvert_exporter": "python",
   "pygments_lexer": "ipython3",
   "version": "3.11.7"
  }
 },
 "nbformat": 4,
 "nbformat_minor": 5
}
