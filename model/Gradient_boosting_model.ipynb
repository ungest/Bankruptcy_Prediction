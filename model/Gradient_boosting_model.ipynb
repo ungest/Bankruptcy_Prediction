{
 "cells": [
  {
   "cell_type": "markdown",
   "id": "73097050-b304-48bf-9d14-26b22a0d07b3",
   "metadata": {},
   "source": [
    "# Bankruptcy Predictions with Gradient Boosting Ensemble Models"
   ]
  },
  {
   "cell_type": "markdown",
   "id": "6a8b60f0-c2a2-4d8d-abb4-b7deec09d87a",
   "metadata": {},
   "source": [
    "#### Import libraries\n"
   ]
  },
  {
   "cell_type": "code",
   "execution_count": 4,
   "id": "2d67fc55-3afc-4bf4-bace-ecc9ef08b38f",
   "metadata": {},
   "outputs": [],
   "source": [
    "# Library for Data Handling\n",
    "import pandas as pd\n",
    "\n",
    "# Library for visualization\n",
    "import matplotlib.pyplot as plt\n",
    "import seaborn as sns\n",
    "\n",
    "# Library for data split and model selection\n",
    "from sklearn.model_selection import train_test_split, GridSearchCV\n",
    "\n",
    "# Library for Resampling Training Data\n",
    "from imblearn.over_sampling import RandomOverSampler\n",
    "\n",
    "# Library for creating Pipeline\n",
    "from sklearn.pipeline import make_pipeline\n",
    "\n",
    "# Library for Imputing Missing values\n",
    "from sklearn.impute import SimpleImputer\n",
    "\n",
    "# Library for Model training\n",
    "from sklearn.ensemble import GradientBoostingClassifier\n",
    "\n",
    "\n",
    "# Library for Model Evaluation\n",
    "from sklearn.metrics import classification_report, confusion_matrix, ConfusionMatrixDisplay, PrecisionRecallDisplay\n",
    "# Library for object Serialization\n",
    "import pickle"
   ]
  },
  {
   "cell_type": "code",
   "execution_count": 5,
   "id": "e4dda81a-e954-4a1d-8f82-c3b2fb749472",
   "metadata": {},
   "outputs": [
    {
     "name": "stdout",
     "output_type": "stream",
     "text": [
      "(43405, 66)\n"
     ]
    },
    {
     "data": {
      "text/html": [
       "<div>\n",
       "<style scoped>\n",
       "    .dataframe tbody tr th:only-of-type {\n",
       "        vertical-align: middle;\n",
       "    }\n",
       "\n",
       "    .dataframe tbody tr th {\n",
       "        vertical-align: top;\n",
       "    }\n",
       "\n",
       "    .dataframe thead th {\n",
       "        text-align: right;\n",
       "    }\n",
       "</style>\n",
       "<table border=\"1\" class=\"dataframe\">\n",
       "  <thead>\n",
       "    <tr style=\"text-align: right;\">\n",
       "      <th></th>\n",
       "      <th>year</th>\n",
       "      <th>A1</th>\n",
       "      <th>A2</th>\n",
       "      <th>A3</th>\n",
       "      <th>A4</th>\n",
       "      <th>A5</th>\n",
       "      <th>A6</th>\n",
       "      <th>A7</th>\n",
       "      <th>A8</th>\n",
       "      <th>A9</th>\n",
       "      <th>...</th>\n",
       "      <th>A56</th>\n",
       "      <th>A57</th>\n",
       "      <th>A58</th>\n",
       "      <th>A59</th>\n",
       "      <th>A60</th>\n",
       "      <th>A61</th>\n",
       "      <th>A62</th>\n",
       "      <th>A63</th>\n",
       "      <th>A64</th>\n",
       "      <th>bankrupt</th>\n",
       "    </tr>\n",
       "  </thead>\n",
       "  <tbody>\n",
       "    <tr>\n",
       "      <th>0</th>\n",
       "      <td>1</td>\n",
       "      <td>0.200550</td>\n",
       "      <td>0.37951</td>\n",
       "      <td>0.39641</td>\n",
       "      <td>2.0472</td>\n",
       "      <td>32.3510</td>\n",
       "      <td>0.38825</td>\n",
       "      <td>0.249760</td>\n",
       "      <td>1.33050</td>\n",
       "      <td>1.1389</td>\n",
       "      <td>...</td>\n",
       "      <td>0.121960</td>\n",
       "      <td>0.39718</td>\n",
       "      <td>0.87804</td>\n",
       "      <td>0.001924</td>\n",
       "      <td>8.4160</td>\n",
       "      <td>5.1372</td>\n",
       "      <td>82.658</td>\n",
       "      <td>4.4158</td>\n",
       "      <td>7.4277</td>\n",
       "      <td>False</td>\n",
       "    </tr>\n",
       "    <tr>\n",
       "      <th>1</th>\n",
       "      <td>1</td>\n",
       "      <td>0.209120</td>\n",
       "      <td>0.49988</td>\n",
       "      <td>0.47225</td>\n",
       "      <td>1.9447</td>\n",
       "      <td>14.7860</td>\n",
       "      <td>0.00000</td>\n",
       "      <td>0.258340</td>\n",
       "      <td>0.99601</td>\n",
       "      <td>1.6996</td>\n",
       "      <td>...</td>\n",
       "      <td>0.121300</td>\n",
       "      <td>0.42002</td>\n",
       "      <td>0.85300</td>\n",
       "      <td>0.000000</td>\n",
       "      <td>4.1486</td>\n",
       "      <td>3.2732</td>\n",
       "      <td>107.350</td>\n",
       "      <td>3.4000</td>\n",
       "      <td>60.9870</td>\n",
       "      <td>False</td>\n",
       "    </tr>\n",
       "    <tr>\n",
       "      <th>2</th>\n",
       "      <td>1</td>\n",
       "      <td>0.248660</td>\n",
       "      <td>0.69592</td>\n",
       "      <td>0.26713</td>\n",
       "      <td>1.5548</td>\n",
       "      <td>-1.1523</td>\n",
       "      <td>0.00000</td>\n",
       "      <td>0.309060</td>\n",
       "      <td>0.43695</td>\n",
       "      <td>1.3090</td>\n",
       "      <td>...</td>\n",
       "      <td>0.241140</td>\n",
       "      <td>0.81774</td>\n",
       "      <td>0.76599</td>\n",
       "      <td>0.694840</td>\n",
       "      <td>4.9909</td>\n",
       "      <td>3.9510</td>\n",
       "      <td>134.270</td>\n",
       "      <td>2.7185</td>\n",
       "      <td>5.2078</td>\n",
       "      <td>False</td>\n",
       "    </tr>\n",
       "    <tr>\n",
       "      <th>3</th>\n",
       "      <td>1</td>\n",
       "      <td>0.081483</td>\n",
       "      <td>0.30734</td>\n",
       "      <td>0.45879</td>\n",
       "      <td>2.4928</td>\n",
       "      <td>51.9520</td>\n",
       "      <td>0.14988</td>\n",
       "      <td>0.092704</td>\n",
       "      <td>1.86610</td>\n",
       "      <td>1.0571</td>\n",
       "      <td>...</td>\n",
       "      <td>0.054015</td>\n",
       "      <td>0.14207</td>\n",
       "      <td>0.94598</td>\n",
       "      <td>0.000000</td>\n",
       "      <td>4.5746</td>\n",
       "      <td>3.6147</td>\n",
       "      <td>86.435</td>\n",
       "      <td>4.2228</td>\n",
       "      <td>5.5497</td>\n",
       "      <td>False</td>\n",
       "    </tr>\n",
       "    <tr>\n",
       "      <th>4</th>\n",
       "      <td>1</td>\n",
       "      <td>0.187320</td>\n",
       "      <td>0.61323</td>\n",
       "      <td>0.22960</td>\n",
       "      <td>1.4063</td>\n",
       "      <td>-7.3128</td>\n",
       "      <td>0.18732</td>\n",
       "      <td>0.187320</td>\n",
       "      <td>0.63070</td>\n",
       "      <td>1.1559</td>\n",
       "      <td>...</td>\n",
       "      <td>0.134850</td>\n",
       "      <td>0.48431</td>\n",
       "      <td>0.86515</td>\n",
       "      <td>0.124440</td>\n",
       "      <td>6.3985</td>\n",
       "      <td>4.3158</td>\n",
       "      <td>127.210</td>\n",
       "      <td>2.8692</td>\n",
       "      <td>7.8980</td>\n",
       "      <td>False</td>\n",
       "    </tr>\n",
       "  </tbody>\n",
       "</table>\n",
       "<p>5 rows × 66 columns</p>\n",
       "</div>"
      ],
      "text/plain": [
       "   year        A1       A2       A3      A4       A5       A6        A7  \\\n",
       "0     1  0.200550  0.37951  0.39641  2.0472  32.3510  0.38825  0.249760   \n",
       "1     1  0.209120  0.49988  0.47225  1.9447  14.7860  0.00000  0.258340   \n",
       "2     1  0.248660  0.69592  0.26713  1.5548  -1.1523  0.00000  0.309060   \n",
       "3     1  0.081483  0.30734  0.45879  2.4928  51.9520  0.14988  0.092704   \n",
       "4     1  0.187320  0.61323  0.22960  1.4063  -7.3128  0.18732  0.187320   \n",
       "\n",
       "        A8      A9  ...       A56      A57      A58       A59     A60     A61  \\\n",
       "0  1.33050  1.1389  ...  0.121960  0.39718  0.87804  0.001924  8.4160  5.1372   \n",
       "1  0.99601  1.6996  ...  0.121300  0.42002  0.85300  0.000000  4.1486  3.2732   \n",
       "2  0.43695  1.3090  ...  0.241140  0.81774  0.76599  0.694840  4.9909  3.9510   \n",
       "3  1.86610  1.0571  ...  0.054015  0.14207  0.94598  0.000000  4.5746  3.6147   \n",
       "4  0.63070  1.1559  ...  0.134850  0.48431  0.86515  0.124440  6.3985  4.3158   \n",
       "\n",
       "       A62     A63      A64  bankrupt  \n",
       "0   82.658  4.4158   7.4277     False  \n",
       "1  107.350  3.4000  60.9870     False  \n",
       "2  134.270  2.7185   5.2078     False  \n",
       "3   86.435  4.2228   5.5497     False  \n",
       "4  127.210  2.8692   7.8980     False  \n",
       "\n",
       "[5 rows x 66 columns]"
      ]
     },
     "execution_count": 5,
     "metadata": {},
     "output_type": "execute_result"
    }
   ],
   "source": [
    "# Read the cleaned csv to DataFrame\n",
    "df = pd.read_csv('../data/cleaned_dataframe.csv', compression='zip',  index_col=0)\n",
    "print(df.shape)\n",
    "df.head()"
   ]
  },
  {
   "cell_type": "markdown",
   "id": "64c20521-5e7f-43ad-a503-d30bdbf5a8f4",
   "metadata": {},
   "source": [
    "#### Train-test split"
   ]
  },
  {
   "cell_type": "code",
   "execution_count": 6,
   "id": "ee8f1be5-6407-4de3-8c36-f20628e191e6",
   "metadata": {},
   "outputs": [],
   "source": [
    "# Split the data into train and test set\n",
    "target = 'bankrupt'\n",
    "X = df.drop(target, axis=1)\n",
    "y = df[target]"
   ]
  },
  {
   "cell_type": "code",
   "execution_count": 7,
   "id": "895fa464-dfff-458f-9027-e4c50b7c054a",
   "metadata": {},
   "outputs": [
    {
     "name": "stdout",
     "output_type": "stream",
     "text": [
      "X_train shape: (34724, 65)\n",
      "y_train shape: (34724,)\n",
      "X_test shape: (8681, 65)\n",
      "y_test shape: (8681,)\n"
     ]
    }
   ],
   "source": [
    "# Split the data into training and testing set\n",
    "X_train, X_test, y_train, y_test = train_test_split(X, y, test_size=0.2, random_state=42)\n",
    "print(\"X_train shape:\", X_train.shape)\n",
    "print(\"y_train shape:\", y_train.shape)\n",
    "print(\"X_test shape:\", X_test.shape)\n",
    "print(\"y_test shape:\", y_test.shape)"
   ]
  },
  {
   "cell_type": "markdown",
   "id": "da6522b6-5008-40da-915d-3750cd2a5ca7",
   "metadata": {},
   "source": [
    "#### Resample"
   ]
  },
  {
   "cell_type": "markdown",
   "id": "71e59378-7089-41c9-9745-2a007b94c0f1",
   "metadata": {},
   "source": [
    "While exploring the dataset, I noticed class imbalance on the target column, in order to balance the class distribution and remove bias towards the majority class, I'll perform Oversampling on the training set."
   ]
  },
  {
   "cell_type": "code",
   "execution_count": 8,
   "id": "7a408cb2-b429-4572-a515-1b238dc078b2",
   "metadata": {},
   "outputs": [
    {
     "name": "stdout",
     "output_type": "stream",
     "text": [
      "X_train_over shape: (66148, 65)\n",
      "y_train_over shape: (66148,)\n"
     ]
    }
   ],
   "source": [
    "over_sampler = RandomOverSampler(random_state=42)\n",
    "X_train_over, y_train_over = over_sampler.fit_resample(X_train, y_train)\n",
    "print(\"X_train_over shape:\", X_train_over.shape)\n",
    "print(\"y_train_over shape:\", y_train_over.shape)"
   ]
  },
  {
   "cell_type": "code",
   "execution_count": 9,
   "id": "1a6836e1-abd7-4bc6-a067-461db0523776",
   "metadata": {},
   "outputs": [
    {
     "name": "stdout",
     "output_type": "stream",
     "text": [
      "<class 'pandas.core.frame.DataFrame'>\n",
      "RangeIndex: 66148 entries, 0 to 66147\n",
      "Data columns (total 65 columns):\n",
      " #   Column  Non-Null Count  Dtype  \n",
      "---  ------  --------------  -----  \n",
      " 0   year    66148 non-null  int64  \n",
      " 1   A1      66147 non-null  float64\n",
      " 2   A2      66147 non-null  float64\n",
      " 3   A3      66147 non-null  float64\n",
      " 4   A4      65944 non-null  float64\n",
      " 5   A5      66076 non-null  float64\n",
      " 6   A6      66147 non-null  float64\n",
      " 7   A7      66147 non-null  float64\n",
      " 8   A8      65994 non-null  float64\n",
      " 9   A9      66121 non-null  float64\n",
      " 10  A10     66147 non-null  float64\n",
      " 11  A11     65534 non-null  float64\n",
      " 12  A12     65944 non-null  float64\n",
      " 13  A13     65921 non-null  float64\n",
      " 14  A14     66147 non-null  float64\n",
      " 15  A15     66123 non-null  float64\n",
      " 16  A16     65993 non-null  float64\n",
      " 17  A17     65994 non-null  float64\n",
      " 18  A18     66147 non-null  float64\n",
      " 19  A19     65920 non-null  float64\n",
      " 20  A20     65921 non-null  float64\n",
      " 21  A21     52414 non-null  float64\n",
      " 22  A22     66147 non-null  float64\n",
      " 23  A23     65921 non-null  float64\n",
      " 24  A24     65401 non-null  float64\n",
      " 25  A25     66147 non-null  float64\n",
      " 26  A26     65993 non-null  float64\n",
      " 27  A27     53219 non-null  float64\n",
      " 28  A28     64342 non-null  float64\n",
      " 29  A29     66147 non-null  float64\n",
      " 30  A30     65921 non-null  float64\n",
      " 31  A31     65921 non-null  float64\n",
      " 32  A32     65699 non-null  float64\n",
      " 33  A33     65944 non-null  float64\n",
      " 34  A34     65994 non-null  float64\n",
      " 35  A35     66147 non-null  float64\n",
      " 36  A36     66147 non-null  float64\n",
      " 37  A37     36438 non-null  float64\n",
      " 38  A38     66147 non-null  float64\n",
      " 39  A39     65921 non-null  float64\n",
      " 40  A40     65944 non-null  float64\n",
      " 41  A41     65536 non-null  float64\n",
      " 42  A42     65921 non-null  float64\n",
      " 43  A43     65921 non-null  float64\n",
      " 44  A44     65921 non-null  float64\n",
      " 45  A45     61869 non-null  float64\n",
      " 46  A46     65924 non-null  float64\n",
      " 47  A47     65880 non-null  float64\n",
      " 48  A48     66146 non-null  float64\n",
      " 49  A49     65921 non-null  float64\n",
      " 50  A50     65994 non-null  float64\n",
      " 51  A51     66147 non-null  float64\n",
      " 52  A52     65877 non-null  float64\n",
      " 53  A53     64342 non-null  float64\n",
      " 54  A54     64342 non-null  float64\n",
      " 55  A55     66147 non-null  float64\n",
      " 56  A56     65921 non-null  float64\n",
      " 57  A57     66123 non-null  float64\n",
      " 58  A58     66020 non-null  float64\n",
      " 59  A59     66123 non-null  float64\n",
      " 60  A60     61865 non-null  float64\n",
      " 61  A61     65949 non-null  float64\n",
      " 62  A62     65921 non-null  float64\n",
      " 63  A63     65944 non-null  float64\n",
      " 64  A64     64342 non-null  float64\n",
      "dtypes: float64(64), int64(1)\n",
      "memory usage: 32.8 MB\n"
     ]
    }
   ],
   "source": [
    "X_train_over.info()"
   ]
  },
  {
   "cell_type": "markdown",
   "id": "75b630ea-8eaf-44ea-835c-a7a54b66f23d",
   "metadata": {},
   "source": [
    "The info above show that there are missing values in our data, this will require introducing a transformer into the pipeline, I'll use `SimpleImputer()` in this case."
   ]
  },
  {
   "cell_type": "markdown",
   "id": "4b911883-d8a7-4c33-a67f-17398ce43a2f",
   "metadata": {},
   "source": [
    "#### Build Model"
   ]
  },
  {
   "cell_type": "markdown",
   "id": "a5b2a33a-a68f-49bc-8f27-f408ea15b469",
   "metadata": {},
   "source": [
    "##### Baseline Accuracy"
   ]
  },
  {
   "cell_type": "code",
   "execution_count": 10,
   "id": "c1494735-4728-4713-afcf-2ca073fecd0a",
   "metadata": {},
   "outputs": [
    {
     "name": "stdout",
     "output_type": "stream",
     "text": [
      "Baseline Accuracy: 0.5\n"
     ]
    }
   ],
   "source": [
    "# Calculate the Baseline Accuracy \n",
    "baseline_acc = y_train_over.value_counts(normalize=True).max()\n",
    "print('Baseline Accuracy:', baseline_acc)"
   ]
  },
  {
   "cell_type": "markdown",
   "id": "eb35a26f",
   "metadata": {},
   "source": [
    "I'll create an instance of a pipeline with `make_pipeline`, including the `SimpleImputer` transformer and the `GradientBoostingClassifier` predictor."
   ]
  },
  {
   "cell_type": "code",
   "execution_count": 11,
   "id": "f2628984-a3ea-424a-ae91-004173e410d8",
   "metadata": {},
   "outputs": [],
   "source": [
    "clf = make_pipeline(SimpleImputer(), GradientBoostingClassifier(random_state=42))"
   ]
  },
  {
   "cell_type": "code",
   "execution_count": 12,
   "id": "8eb09fe3",
   "metadata": {},
   "outputs": [
    {
     "data": {
      "text/plain": [
       "{'simpleimputer__strategy': ['mean', 'median'],\n",
       " 'gradientboostingclassifier__max_depth': range(2, 5),\n",
       " 'gradientboostingclassifier__n_estimators': range(20, 31, 5)}"
      ]
     },
     "execution_count": 12,
     "metadata": {},
     "output_type": "execute_result"
    }
   ],
   "source": [
    "parameters = {\n",
    "    'simpleimputer__strategy': ['mean', 'median'],\n",
    "    'GradientBoostingClassifier__max_depth'.lower(): range(2,5),\n",
    "    'GradientBoostingClassifier__n_estimators'.lower(): range(20, 31, 5)\n",
    "}\n",
    "parameters"
   ]
  },
  {
   "cell_type": "code",
   "execution_count": 13,
   "id": "f812cf26-f79a-4fa0-aa6d-301c876fb02a",
   "metadata": {},
   "outputs": [],
   "source": [
    "model = GridSearchCV(estimator=clf, cv=5, param_grid=parameters, verbose=1, n_jobs=-1)"
   ]
  },
  {
   "cell_type": "code",
   "execution_count": 14,
   "id": "24c88720",
   "metadata": {},
   "outputs": [
    {
     "name": "stdout",
     "output_type": "stream",
     "text": [
      "Fitting 5 folds for each of 18 candidates, totalling 90 fits\n"
     ]
    },
    {
     "data": {
      "text/html": [
       "<style>#sk-container-id-1 {color: black;background-color: white;}#sk-container-id-1 pre{padding: 0;}#sk-container-id-1 div.sk-toggleable {background-color: white;}#sk-container-id-1 label.sk-toggleable__label {cursor: pointer;display: block;width: 100%;margin-bottom: 0;padding: 0.3em;box-sizing: border-box;text-align: center;}#sk-container-id-1 label.sk-toggleable__label-arrow:before {content: \"▸\";float: left;margin-right: 0.25em;color: #696969;}#sk-container-id-1 label.sk-toggleable__label-arrow:hover:before {color: black;}#sk-container-id-1 div.sk-estimator:hover label.sk-toggleable__label-arrow:before {color: black;}#sk-container-id-1 div.sk-toggleable__content {max-height: 0;max-width: 0;overflow: hidden;text-align: left;background-color: #f0f8ff;}#sk-container-id-1 div.sk-toggleable__content pre {margin: 0.2em;color: black;border-radius: 0.25em;background-color: #f0f8ff;}#sk-container-id-1 input.sk-toggleable__control:checked~div.sk-toggleable__content {max-height: 200px;max-width: 100%;overflow: auto;}#sk-container-id-1 input.sk-toggleable__control:checked~label.sk-toggleable__label-arrow:before {content: \"▾\";}#sk-container-id-1 div.sk-estimator input.sk-toggleable__control:checked~label.sk-toggleable__label {background-color: #d4ebff;}#sk-container-id-1 div.sk-label input.sk-toggleable__control:checked~label.sk-toggleable__label {background-color: #d4ebff;}#sk-container-id-1 input.sk-hidden--visually {border: 0;clip: rect(1px 1px 1px 1px);clip: rect(1px, 1px, 1px, 1px);height: 1px;margin: -1px;overflow: hidden;padding: 0;position: absolute;width: 1px;}#sk-container-id-1 div.sk-estimator {font-family: monospace;background-color: #f0f8ff;border: 1px dotted black;border-radius: 0.25em;box-sizing: border-box;margin-bottom: 0.5em;}#sk-container-id-1 div.sk-estimator:hover {background-color: #d4ebff;}#sk-container-id-1 div.sk-parallel-item::after {content: \"\";width: 100%;border-bottom: 1px solid gray;flex-grow: 1;}#sk-container-id-1 div.sk-label:hover label.sk-toggleable__label {background-color: #d4ebff;}#sk-container-id-1 div.sk-serial::before {content: \"\";position: absolute;border-left: 1px solid gray;box-sizing: border-box;top: 0;bottom: 0;left: 50%;z-index: 0;}#sk-container-id-1 div.sk-serial {display: flex;flex-direction: column;align-items: center;background-color: white;padding-right: 0.2em;padding-left: 0.2em;position: relative;}#sk-container-id-1 div.sk-item {position: relative;z-index: 1;}#sk-container-id-1 div.sk-parallel {display: flex;align-items: stretch;justify-content: center;background-color: white;position: relative;}#sk-container-id-1 div.sk-item::before, #sk-container-id-1 div.sk-parallel-item::before {content: \"\";position: absolute;border-left: 1px solid gray;box-sizing: border-box;top: 0;bottom: 0;left: 50%;z-index: -1;}#sk-container-id-1 div.sk-parallel-item {display: flex;flex-direction: column;z-index: 1;position: relative;background-color: white;}#sk-container-id-1 div.sk-parallel-item:first-child::after {align-self: flex-end;width: 50%;}#sk-container-id-1 div.sk-parallel-item:last-child::after {align-self: flex-start;width: 50%;}#sk-container-id-1 div.sk-parallel-item:only-child::after {width: 0;}#sk-container-id-1 div.sk-dashed-wrapped {border: 1px dashed gray;margin: 0 0.4em 0.5em 0.4em;box-sizing: border-box;padding-bottom: 0.4em;background-color: white;}#sk-container-id-1 div.sk-label label {font-family: monospace;font-weight: bold;display: inline-block;line-height: 1.2em;}#sk-container-id-1 div.sk-label-container {text-align: center;}#sk-container-id-1 div.sk-container {/* jupyter's `normalize.less` sets `[hidden] { display: none; }` but bootstrap.min.css set `[hidden] { display: none !important; }` so we also need the `!important` here to be able to override the default hidden behavior on the sphinx rendered scikit-learn.org. See: https://github.com/scikit-learn/scikit-learn/issues/21755 */display: inline-block !important;position: relative;}#sk-container-id-1 div.sk-text-repr-fallback {display: none;}</style><div id=\"sk-container-id-1\" class=\"sk-top-container\"><div class=\"sk-text-repr-fallback\"><pre>GridSearchCV(cv=5,\n",
       "             estimator=Pipeline(steps=[(&#x27;simpleimputer&#x27;, SimpleImputer()),\n",
       "                                       (&#x27;gradientboostingclassifier&#x27;,\n",
       "                                        GradientBoostingClassifier(random_state=42))]),\n",
       "             n_jobs=-1,\n",
       "             param_grid={&#x27;gradientboostingclassifier__max_depth&#x27;: range(2, 5),\n",
       "                         &#x27;gradientboostingclassifier__n_estimators&#x27;: range(20, 31, 5),\n",
       "                         &#x27;simpleimputer__strategy&#x27;: [&#x27;mean&#x27;, &#x27;median&#x27;]},\n",
       "             verbose=1)</pre><b>In a Jupyter environment, please rerun this cell to show the HTML representation or trust the notebook. <br />On GitHub, the HTML representation is unable to render, please try loading this page with nbviewer.org.</b></div><div class=\"sk-container\" hidden><div class=\"sk-item sk-dashed-wrapped\"><div class=\"sk-label-container\"><div class=\"sk-label sk-toggleable\"><input class=\"sk-toggleable__control sk-hidden--visually\" id=\"sk-estimator-id-1\" type=\"checkbox\" ><label for=\"sk-estimator-id-1\" class=\"sk-toggleable__label sk-toggleable__label-arrow\">GridSearchCV</label><div class=\"sk-toggleable__content\"><pre>GridSearchCV(cv=5,\n",
       "             estimator=Pipeline(steps=[(&#x27;simpleimputer&#x27;, SimpleImputer()),\n",
       "                                       (&#x27;gradientboostingclassifier&#x27;,\n",
       "                                        GradientBoostingClassifier(random_state=42))]),\n",
       "             n_jobs=-1,\n",
       "             param_grid={&#x27;gradientboostingclassifier__max_depth&#x27;: range(2, 5),\n",
       "                         &#x27;gradientboostingclassifier__n_estimators&#x27;: range(20, 31, 5),\n",
       "                         &#x27;simpleimputer__strategy&#x27;: [&#x27;mean&#x27;, &#x27;median&#x27;]},\n",
       "             verbose=1)</pre></div></div></div><div class=\"sk-parallel\"><div class=\"sk-parallel-item\"><div class=\"sk-item\"><div class=\"sk-label-container\"><div class=\"sk-label sk-toggleable\"><input class=\"sk-toggleable__control sk-hidden--visually\" id=\"sk-estimator-id-2\" type=\"checkbox\" ><label for=\"sk-estimator-id-2\" class=\"sk-toggleable__label sk-toggleable__label-arrow\">estimator: Pipeline</label><div class=\"sk-toggleable__content\"><pre>Pipeline(steps=[(&#x27;simpleimputer&#x27;, SimpleImputer()),\n",
       "                (&#x27;gradientboostingclassifier&#x27;,\n",
       "                 GradientBoostingClassifier(random_state=42))])</pre></div></div></div><div class=\"sk-serial\"><div class=\"sk-item\"><div class=\"sk-serial\"><div class=\"sk-item\"><div class=\"sk-estimator sk-toggleable\"><input class=\"sk-toggleable__control sk-hidden--visually\" id=\"sk-estimator-id-3\" type=\"checkbox\" ><label for=\"sk-estimator-id-3\" class=\"sk-toggleable__label sk-toggleable__label-arrow\">SimpleImputer</label><div class=\"sk-toggleable__content\"><pre>SimpleImputer()</pre></div></div></div><div class=\"sk-item\"><div class=\"sk-estimator sk-toggleable\"><input class=\"sk-toggleable__control sk-hidden--visually\" id=\"sk-estimator-id-4\" type=\"checkbox\" ><label for=\"sk-estimator-id-4\" class=\"sk-toggleable__label sk-toggleable__label-arrow\">GradientBoostingClassifier</label><div class=\"sk-toggleable__content\"><pre>GradientBoostingClassifier(random_state=42)</pre></div></div></div></div></div></div></div></div></div></div></div></div>"
      ],
      "text/plain": [
       "GridSearchCV(cv=5,\n",
       "             estimator=Pipeline(steps=[('simpleimputer', SimpleImputer()),\n",
       "                                       ('gradientboostingclassifier',\n",
       "                                        GradientBoostingClassifier(random_state=42))]),\n",
       "             n_jobs=-1,\n",
       "             param_grid={'gradientboostingclassifier__max_depth': range(2, 5),\n",
       "                         'gradientboostingclassifier__n_estimators': range(20, 31, 5),\n",
       "                         'simpleimputer__strategy': ['mean', 'median']},\n",
       "             verbose=1)"
      ]
     },
     "execution_count": 14,
     "metadata": {},
     "output_type": "execute_result"
    }
   ],
   "source": [
    "model.fit(X_train_over, y_train_over)"
   ]
  },
  {
   "cell_type": "code",
   "execution_count": 15,
   "id": "357514b4",
   "metadata": {},
   "outputs": [
    {
     "data": {
      "text/plain": [
       "{'gradientboostingclassifier__max_depth': 4,\n",
       " 'gradientboostingclassifier__n_estimators': 30,\n",
       " 'simpleimputer__strategy': 'median'}"
      ]
     },
     "execution_count": 15,
     "metadata": {},
     "output_type": "execute_result"
    }
   ],
   "source": [
    "# Extract the best hyperparameters\n",
    "model.best_params_"
   ]
  },
  {
   "cell_type": "markdown",
   "id": "c6c44fe0",
   "metadata": {},
   "source": [
    "#### Evaluating the model performance"
   ]
  },
  {
   "cell_type": "markdown",
   "id": "312e3a2f",
   "metadata": {},
   "source": [
    "##### Accuracy score"
   ]
  },
  {
   "cell_type": "code",
   "execution_count": 16,
   "id": "44e51c7e",
   "metadata": {},
   "outputs": [
    {
     "name": "stdout",
     "output_type": "stream",
     "text": [
      "Training Accuracy: 0.8778\n",
      "Validation Accuracy: 0.8665\n"
     ]
    }
   ],
   "source": [
    "acc_train = model.score(X_train_over, y_train_over)\n",
    "acc_test = model.score(X_test, y_test)\n",
    "\n",
    "print(\"Training Accuracy:\", round(acc_train, 4))\n",
    "print(\"Validation Accuracy:\", round(acc_test, 4))"
   ]
  },
  {
   "cell_type": "markdown",
   "id": "d10b310b",
   "metadata": {},
   "source": [
    "##### Confusion Matrix"
   ]
  },
  {
   "cell_type": "markdown",
   "id": "fb7e76a2",
   "metadata": {},
   "source": [
    "I'll use a confusion matrix to see how the model is making it's predictions "
   ]
  },
  {
   "cell_type": "code",
   "execution_count": 17,
   "id": "d26b73a7",
   "metadata": {},
   "outputs": [
    {
     "data": {
      "text/plain": [
       "array([[7162, 1078],\n",
       "       [  81,  360]], dtype=int64)"
      ]
     },
     "execution_count": 17,
     "metadata": {},
     "output_type": "execute_result"
    }
   ],
   "source": [
    "y_pred = model.predict(X_test)\n",
    "\n",
    "confusion_matrix(y_test, y_pred)"
   ]
  },
  {
   "cell_type": "markdown",
   "id": "6213024a",
   "metadata": {},
   "source": [
    "Plotting it to aid proper visualization"
   ]
  },
  {
   "cell_type": "code",
   "execution_count": 18,
   "id": "148aad7a",
   "metadata": {},
   "outputs": [
    {
     "data": {
      "image/png": "[encoded data removed]",
      "text/plain": [
       "<Figure size 640x480 with 2 Axes>"
      ]
     },
     "metadata": {},
     "output_type": "display_data"
    }
   ],
   "source": [
    "ConfusionMatrixDisplay.from_estimator(model, X_test, y_test)\n",
    "plt.title('Confusion Matrix');"
   ]
  },
  {
   "cell_type": "markdown",
   "id": "3414986c",
   "metadata": {},
   "source": [
    "The Displayed confusion matrix serves as a reminder of how imbalanced our data is and why **Accuracy** is not always the best for judging if a model is giving us what we want.\n",
    "\n",
    "Due to the class imbalance, if over 90% of the companies did not go bankrupt, our model will always predict `bankrupt` as `False`, and it'll be right 95% of the time. The accuracy score will be amazing, but it won't tell us what we really need to know.\n",
    "\n",
    "**Precision** and **Recall** are more preferred in this cases."
   ]
  },
  {
   "cell_type": "code",
   "execution_count": 19,
   "id": "91649b55",
   "metadata": {},
   "outputs": [
    {
     "name": "stdout",
     "output_type": "stream",
     "text": [
      "              precision    recall  f1-score   support\n",
      "\n",
      "       False       0.99      0.87      0.93      8240\n",
      "        True       0.25      0.82      0.38       441\n",
      "\n",
      "    accuracy                           0.87      8681\n",
      "   macro avg       0.62      0.84      0.65      8681\n",
      "weighted avg       0.95      0.87      0.90      8681\n",
      "\n"
     ]
    }
   ],
   "source": [
    "# Print the classification report\n",
    "print(classification_report(y_test, y_pred))"
   ]
  },
  {
   "cell_type": "markdown",
   "id": "e3fcbab7",
   "metadata": {},
   "source": [
    "For the purpose of this model, I am focusing on the performance of the classifier in the Positive class i.e `True` class, where a company is predicted to go bankrupt. Hence i'll be using the 'True' row from the above classification report"
   ]
  },
  {
   "cell_type": "markdown",
   "id": "cd691b4f",
   "metadata": {},
   "source": [
    "##### Precision-Recall Curve"
   ]
  },
  {
   "cell_type": "markdown",
   "id": "74c5dcfd",
   "metadata": {},
   "source": [
    "Precision-Recall Curve is a performance measure for binary classification. It's used when there is an imbalance between the positive and negative classes, or when the focus is on the performance of the classifier in the positive class like in this case."
   ]
  },
  {
   "cell_type": "code",
   "execution_count": 20,
   "id": "3b8f7690",
   "metadata": {},
   "outputs": [
    {
     "data": {
      "image/png": "[encoded data removed]",
      "text/plain": [
       "<Figure size 640x480 with 1 Axes>"
      ]
     },
     "metadata": {},
     "output_type": "display_data"
    }
   ],
   "source": [
    "PrecisionRecallDisplay.from_estimator(model, X_test, y_test)\n",
    "plt.title(\"Precision-Recall Trade-off for Predicting Bankruptcy of Polish Companies\");"
   ]
  },
  {
   "cell_type": "markdown",
   "id": "9db5e515",
   "metadata": {},
   "source": [
    "In this specific chart, the precision starts high and decreases as recall increases. This is a typical behavior because if I lower the threshold to predict positive classes, it will result to more true positives **(increasing recall)**, but also more false positives **(decreasing precision)**.\n",
    "\n",
    "An Average Precision(AP) of **0.62** represents average precision of the model for all thresholds."
   ]
  },
  {
   "cell_type": "markdown",
   "id": "dd6a1863",
   "metadata": {},
   "source": [
    "### Communicate Result"
   ]
  },
  {
   "cell_type": "markdown",
   "id": "0cc4dcff",
   "metadata": {},
   "source": [
    "I'll create a histogram to show the 10 most important features for the model's predictions."
   ]
  },
  {
   "cell_type": "code",
   "execution_count": 21,
   "id": "07f52b7c",
   "metadata": {},
   "outputs": [
    {
     "data": {
      "text/plain": [
       "Text(0.5, 1.0, 'Feature Importance')"
      ]
     },
     "execution_count": 21,
     "metadata": {},
     "output_type": "execute_result"
    },
    {
     "data": {
      "image/png": "[encoded data removed]",
      "text/plain": [
       "<Figure size 640x480 with 1 Axes>"
      ]
     },
     "metadata": {},
     "output_type": "display_data"
    }
   ],
   "source": [
    "features = X_train_over.columns\n",
    "importance = model.best_estimator_.named_steps['gradientboostingclassifier'].feature_importances_\n",
    "\n",
    "feat_imp = pd.Series(index=features, data=importance).sort_values(ascending=False)\n",
    "feat_imp.head(10).plot(kind='barh')\n",
    "plt.xlabel(\"Gini Importance\")\n",
    "plt.ylabel(\"Feature\")\n",
    "plt.title('Feature Importance')"
   ]
  },
  {
   "cell_type": "markdown",
   "id": "62f48c57",
   "metadata": {},
   "source": [
    "#### Model Serialization "
   ]
  },
  {
   "cell_type": "code",
   "execution_count": 22,
   "id": "07126c11",
   "metadata": {},
   "outputs": [],
   "source": [
    "# Save the best model\n",
    "with open('company-bankruptcy-classifier.pkl', 'wb') as f:\n",
    "    pickle.dump(model, f)"
   ]
  },
  {
   "cell_type": "code",
   "execution_count": null,
   "id": "0dc36e48",
   "metadata": {},
   "outputs": [],
   "source": []
  }
 ],
 "metadata": {
  "kernelspec": {
   "display_name": "Python 3 (ipykernel)",
   "language": "python",
   "name": "python3"
  },
  "language_info": {
   "codemirror_mode": {
    "name": "ipython",
    "version": 3
   },
   "file_extension": ".py",
   "mimetype": "text/x-python",
   "name": "python",
   "nbconvert_exporter": "python",
   "pygments_lexer": "ipython3",
   "version": "3.11.7"
  }
 },
 "nbformat": 4,
 "nbformat_minor": 5
}
